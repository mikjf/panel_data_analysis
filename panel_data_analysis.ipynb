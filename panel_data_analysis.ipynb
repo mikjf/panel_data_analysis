{
 "cells": [
  {
   "cell_type": "markdown",
   "id": "866ca187-0243-4db4-8267-8d02fe8f6d4a",
   "metadata": {},
   "source": [
    "# What is so unique about panel data?"
   ]
  },
  {
   "cell_type": "code",
   "execution_count": null,
   "id": "16730aa1-4f53-4d19-823d-5b0a93554a94",
   "metadata": {},
   "outputs": [],
   "source": []
  }
 ],
 "metadata": {
  "kernelspec": {
   "display_name": "projects",
   "language": "python",
   "name": "projects"
  },
  "language_info": {
   "codemirror_mode": {
    "name": "ipython",
    "version": 3
   },
   "file_extension": ".py",
   "mimetype": "text/x-python",
   "name": "python",
   "nbconvert_exporter": "python",
   "pygments_lexer": "ipython3",
   "version": "3.10.9"
  }
 },
 "nbformat": 4,
 "nbformat_minor": 5
}
