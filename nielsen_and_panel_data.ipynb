{
 "cells": [
  {
   "cell_type": "markdown",
   "id": "866ca187-0243-4db4-8267-8d02fe8f6d4a",
   "metadata": {},
   "source": [
    "# What is so unique about panel data?"
   ]
  },
  {
   "cell_type": "markdown",
   "id": "efff485e-81fc-447e-a2c8-5ee497bf34f1",
   "metadata": {},
   "source": [
    "Yes, my past life consisted in pretty much being some sort of entrepreneur, leveraging my hands-on approach to come up, build and execute business ideas. And yes again, among all tasks, when I think about when it all started 6 years ago (and later on), I’ve always found data and what’s beneath just fascinating. For this reason, towards the end of last year, I decided to throw myself into the data science world by enrolling into full-time certificate at Constructor Learning in Zürich.\n",
    "\n",
    "I’ve quickly understood that the main difference between a data scientist and a data analyst: while there ithe common goal of making sense out of existing data, the data scientist focuses not only on extrapolating knowledge and insights to find answers for relevant business questions, but also on the way that data is gathered, manipulated and analysed through scientific methods, processes, algorithms and modelling techniques.\n",
    "\n",
    "Everything therefore start with data, but there is good and bad data.\n",
    "\n",
    "using scientific methods, processes, algorithms and modelling techniques to properly manipulate and analyse \n",
    "\n",
    "what a data analyst does on a daily basis\n",
    "\n",
    "my life until last year has been mainly i\n",
    "\n",
    "Yes, my educational background and work experience are not related to really related to Data Science. And yes, \n",
    "\n",
    "I’ve been waiting for the right job opportunity in Data Science for a while now\n",
    "\n",
    "I"
   ]
  },
  {
   "cell_type": "code",
   "execution_count": null,
   "id": "418206b0-91a5-4036-83dc-2ef887bc15ca",
   "metadata": {},
   "outputs": [],
   "source": []
  }
 ],
 "metadata": {
  "kernelspec": {
   "display_name": "projects",
   "language": "python",
   "name": "projects"
  },
  "language_info": {
   "codemirror_mode": {
    "name": "ipython",
    "version": 3
   },
   "file_extension": ".py",
   "mimetype": "text/x-python",
   "name": "python",
   "nbconvert_exporter": "python",
   "pygments_lexer": "ipython3",
   "version": "3.10.9"
  }
 },
 "nbformat": 4,
 "nbformat_minor": 5
}
