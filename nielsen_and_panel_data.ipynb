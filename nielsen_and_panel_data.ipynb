{
 "cells": [
  {
   "cell_type": "markdown",
   "id": "eb7f8669-5e4a-48f7-bfc9-6b8eb1edc5f1",
   "metadata": {},
   "source": [
    "# My WIP career switch into Data Science & some insights about panel data audiences"
   ]
  },
  {
   "cell_type": "markdown",
   "id": "866ca187-0243-4db4-8267-8d02fe8f6d4a",
   "metadata": {},
   "source": [
    "## Let me quickly introduce myself"
   ]
  },
  {
   "cell_type": "markdown",
   "id": "efff485e-81fc-447e-a2c8-5ee497bf34f1",
   "metadata": {},
   "source": [
    "Yes, my past life consisted in pretty much being some sort of entrepreneur, leveraging my hands-on approach to come up, build and execute business ideas. And yes again, among all tasks, when I think about when it all started 6 years ago (and later on), **I’ve always found data and what’s beneath just fascinating**. For this reason, towards the end of last year, **I decided to throw myself** into the data science world by enrolling into a 480 hours full-time **data science certificate** at Constructor Learning (former SIT Learning) in Zürich. If you are reading this you are already in my GitHub. Just in case you are not used to it, you can find my projects and some topics I've been reviewing lately [here](https://github.com/mikjf?tab=repositories). From there just select one and scroll down to find out what I've been working on lately."
   ]
  },
  {
   "cell_type": "markdown",
   "id": "b53fcbcc-5966-4731-b930-8095c8e97547",
   "metadata": {},
   "source": [
    "## Data Analyst vs. Data Scientist"
   ]
  },
  {
   "cell_type": "markdown",
   "id": "0cf29a56-0848-4634-9a59-53190c6713b0",
   "metadata": {},
   "source": [
    "I've come to understand (and I might be wrong), at least from my point of view, that even tough both **data scientists** and data analysts try to make sense out of existing data, the former **focus** not only on **extrapolating knowledge and insights to maximize the value of data** and find answers for relevant business questions, but also on the **way that data is gathered, manipulated and analysed** through scientific methods, processes, algorithms and modelling techniques."
   ]
  },
  {
   "cell_type": "markdown",
   "id": "18adb2f8-2852-486e-a350-46e289e0530f",
   "metadata": {},
   "source": [
    "## Everything starts with data"
   ]
  },
  {
   "cell_type": "markdown",
   "id": "49815f12-6099-44d1-b0ab-969eff215380",
   "metadata": {},
   "source": [
    "As today I'm writing this notebook because I'm **interested in a Data Science Associate position** that just opened **at Nielsen**, let's skip the introduction about what's data in general and rather **dive into panel data and why audience is everything**. As I can't lie and I've spent some time on their company website, what I can say is that they state that not all data is equal, and more importantly, having more data is not always better than having less data. As acquiring a large amount of data is often time consuming, resource-intensive and probably even impossible when it comes to capturing all consumers and their behavior for a given product or service, the only feasible solution relies in **mimicking the total population of interest by creating panel groups that represent the overall picture**."
   ]
  },
  {
   "cell_type": "markdown",
   "id": "fde51248-98f2-4992-ab3e-693d84412a8b",
   "metadata": {},
   "source": [
    "## So what's panel data (and what's not)?"
   ]
  },
  {
   "cell_type": "markdown",
   "id": "38114e01-db3e-4a8e-8bb1-6072e6bef69e",
   "metadata": {},
   "source": [
    "- Cross-sectional data: individual entities measured in a one-time period (taking the weight of 1000 people measured on the same day)\n",
    "\n",
    "- Time-series data: usually one entitiy measured over multiple time periods (the total daily number of coffee cups sold by a coffee machine at work for 5 years)\n",
    "\n",
    "- **Panel data**: multiple entities measured over multiple time periods (that's why panel data is also called cross-sectional time-series data\n",
    "\n",
    "To sum up, panel data comprises both cross-sectional and time-series data characteristics into one single model, basically **collecting data from multiple (but same) objects over time**."
   ]
  },
  {
   "cell_type": "code",
   "execution_count": 1,
   "id": "37cb6a08-acba-4773-9292-60bc66680499",
   "metadata": {},
   "outputs": [
    {
     "data": {
      "text/html": [
       "<div>\n",
       "<style scoped>\n",
       "    .dataframe tbody tr th:only-of-type {\n",
       "        vertical-align: middle;\n",
       "    }\n",
       "\n",
       "    .dataframe tbody tr th {\n",
       "        vertical-align: top;\n",
       "    }\n",
       "\n",
       "    .dataframe thead th {\n",
       "        text-align: right;\n",
       "    }\n",
       "</style>\n",
       "<table border=\"1\" class=\"dataframe\">\n",
       "  <thead>\n",
       "    <tr style=\"text-align: right;\">\n",
       "      <th></th>\n",
       "      <th>Name</th>\n",
       "      <th>Year</th>\n",
       "      <th>Burgers</th>\n",
       "      <th>Fries</th>\n",
       "    </tr>\n",
       "  </thead>\n",
       "  <tbody>\n",
       "    <tr>\n",
       "      <th>0</th>\n",
       "      <td>Michael</td>\n",
       "      <td>2020</td>\n",
       "      <td>10</td>\n",
       "      <td>2</td>\n",
       "    </tr>\n",
       "    <tr>\n",
       "      <th>1</th>\n",
       "      <td>Michael</td>\n",
       "      <td>2021</td>\n",
       "      <td>2</td>\n",
       "      <td>2</td>\n",
       "    </tr>\n",
       "    <tr>\n",
       "      <th>2</th>\n",
       "      <td>Michael</td>\n",
       "      <td>2022</td>\n",
       "      <td>12</td>\n",
       "      <td>6</td>\n",
       "    </tr>\n",
       "    <tr>\n",
       "      <th>3</th>\n",
       "      <td>Simone</td>\n",
       "      <td>2020</td>\n",
       "      <td>14</td>\n",
       "      <td>1</td>\n",
       "    </tr>\n",
       "    <tr>\n",
       "      <th>4</th>\n",
       "      <td>Simone</td>\n",
       "      <td>2021</td>\n",
       "      <td>7</td>\n",
       "      <td>7</td>\n",
       "    </tr>\n",
       "    <tr>\n",
       "      <th>5</th>\n",
       "      <td>Simone</td>\n",
       "      <td>2022</td>\n",
       "      <td>10</td>\n",
       "      <td>5</td>\n",
       "    </tr>\n",
       "    <tr>\n",
       "      <th>6</th>\n",
       "      <td>Roberto</td>\n",
       "      <td>2020</td>\n",
       "      <td>15</td>\n",
       "      <td>0</td>\n",
       "    </tr>\n",
       "    <tr>\n",
       "      <th>7</th>\n",
       "      <td>Roberto</td>\n",
       "      <td>2021</td>\n",
       "      <td>5</td>\n",
       "      <td>5</td>\n",
       "    </tr>\n",
       "    <tr>\n",
       "      <th>8</th>\n",
       "      <td>Roberto</td>\n",
       "      <td>2022</td>\n",
       "      <td>2</td>\n",
       "      <td>3</td>\n",
       "    </tr>\n",
       "  </tbody>\n",
       "</table>\n",
       "</div>"
      ],
      "text/plain": [
       "      Name  Year  Burgers  Fries\n",
       "0  Michael  2020       10      2\n",
       "1  Michael  2021        2      2\n",
       "2  Michael  2022       12      6\n",
       "3   Simone  2020       14      1\n",
       "4   Simone  2021        7      7\n",
       "5   Simone  2022       10      5\n",
       "6  Roberto  2020       15      0\n",
       "7  Roberto  2021        5      5\n",
       "8  Roberto  2022        2      3"
      ]
     },
     "execution_count": 1,
     "metadata": {},
     "output_type": "execute_result"
    }
   ],
   "source": [
    "import pandas as pd\n",
    "\n",
    "# create mock data dictionary\n",
    "data = {\n",
    "    'Michael': {\n",
    "        2020: {'Burgers': 10, 'Fries': 2},\n",
    "        2021: {'Burgers': 2, 'Fries': 2},\n",
    "        2022: {'Burgers': 12, 'Fries': 6}\n",
    "    },\n",
    "    'Simone': {\n",
    "        2020: {'Burgers': 14, 'Fries': 1},\n",
    "        2021: {'Burgers': 7, 'Fries': 7},\n",
    "        2022: {'Burgers': 10, 'Fries': 5}\n",
    "    },\n",
    "    'Roberto': {\n",
    "        2020: {'Burgers': 15, 'Fries': 0},\n",
    "        2021: {'Burgers': 5, 'Fries': 5},\n",
    "        2022: {'Burgers': 2, 'Fries': 3}\n",
    "    }\n",
    "}\n",
    "\n",
    "\n",
    "# dataframe from dictionary iteration\n",
    "df = pd.DataFrame.from_dict({(i,j): data[i][j] \n",
    "                             for i in data.keys() \n",
    "                             for j in data[i].keys()}, \n",
    "                            orient='index')\n",
    "\n",
    "# rename and resetting index\n",
    "df.index.names = ['Name', 'Year']\n",
    "df.reset_index()"
   ]
  },
  {
   "cell_type": "markdown",
   "id": "92da426d-cb44-4293-819f-d402d4803337",
   "metadata": {},
   "source": [
    "This dataframe is considered a panel dataset as the variables (number of burgers and fries eaten) are collected in different points in time (years) and for each person under observation (name)."
   ]
  },
  {
   "cell_type": "markdown",
   "id": "b6b47b28-8e61-43fc-aedd-c437463d2d82",
   "metadata": {},
   "source": [
    "DRAW CS TS ILLUSTRATION"
   ]
  },
  {
   "cell_type": "markdown",
   "id": "bf968ade-a46b-4c0f-8e9c-d67c13b96c70",
   "metadata": {},
   "source": [
    "## Important note"
   ]
  },
  {
   "cell_type": "markdown",
   "id": "6d93b7bb-2404-4d4c-a85e-5f3b4952d0e0",
   "metadata": {},
   "source": [
    "As mentioned in my repository, what's coming next is based on external sources. My goal for this notebook is to recreate a walkthrough while trying to understand the concepts behind panel data regression and what's relevant when it comes to this type of data."
   ]
  },
  {
   "cell_type": "markdown",
   "id": "c0b39151-169f-4011-a676-d804cad1d4f5",
   "metadata": {},
   "source": [
    "## Unobserved heterogeneity leading to endogeneity"
   ]
  },
  {
   "cell_type": "markdown",
   "id": "b9274662-3ef9-47f3-a6c8-91f82b78e365",
   "metadata": {},
   "source": [
    "To grasp the concept of heterogeneity let's take a pro tennis player and try to assess the relationship between the overall tennis performance and the precision with which the ball is hit. Does hitting on the sweet spot more often (therefore being more precise) lead to a better performance? We can translate this question into a simple linear regression that looks like this:"
   ]
  },
  {
   "cell_type": "markdown",
   "id": "0f1d785e-80df-417f-bfa2-6fa48daab5d1",
   "metadata": {},
   "source": [
    "$performance_i = β_0 + β_1 * precision_i + ε_i$"
   ]
  },
  {
   "cell_type": "code",
   "execution_count": 2,
   "id": "8b26462a-ad2e-4dbb-87ef-2ef27ba1c971",
   "metadata": {},
   "outputs": [],
   "source": [
    "# performance is the dependent variable (DV)\n",
    "# β0 is the intercept\n",
    "# β1 is the regression coefficient\n",
    "# precision is the independent variable (IV)\n",
    "# ε is the error term"
   ]
  },
  {
   "cell_type": "markdown",
   "id": "c4896d61-3287-454b-b474-5e5611e3aef9",
   "metadata": {},
   "source": [
    "Let's assume a positive correlation between the independent variable (IV) precision and the dependent variable (DV) performance. This would mean that as IV increases, DV increases as well:"
   ]
  },
  {
   "cell_type": "markdown",
   "id": "e1d3b25b-ef03-4447-b9fa-d7b892799304",
   "metadata": {},
   "source": [
    "$performance_i\\color{blue}{\\text{↑}} = β_0 + β_1 * precision_i\\color{blue}{\\text{↑}} + ε_i$"
   ]
  },
  {
   "cell_type": "markdown",
   "id": "62b45303-43ce-4bbf-8bab-4c5ccfac4004",
   "metadata": {},
   "source": [
    "$\\color{blue}{\\text{↑}}$ = positive relationship"
   ]
  },
  {
   "cell_type": "markdown",
   "id": "85b307d6-b2b7-4acc-9cf9-8f32476d73cc",
   "metadata": {},
   "source": [
    "**What if there was another variable not included in the model that would affect the IV?** If the tennis player was very agile, it would probably get to where he/she needs to hit the ball faster, having more time to aim and hit the ball, thus being more precise. Therefore, **agility could be an unobserved indipendent variable, which would be \"hidden\" in the error term**."
   ]
  },
  {
   "cell_type": "markdown",
   "id": "567e955d-db0b-4cc7-9e22-e115358d555b",
   "metadata": {},
   "source": [
    "$performance_i\\color{blue}{\\text{↑}} = β_0 + β_1 * precision_i\\color{blue}{\\text{↑}}\\color{red}{\\text{↑}} + ε_i\\color{red}{\\text{↑}}$"
   ]
  },
  {
   "cell_type": "markdown",
   "id": "faab0e80-4942-4c21-844d-b3ab354a6242",
   "metadata": {},
   "source": [
    "$\\color{red}{\\text{↑}}$ = positive correlation between IV and error term with unobserved IV"
   ]
  },
  {
   "cell_type": "markdown",
   "id": "361449dd-a98a-434f-ba0b-b3af48b646f8",
   "metadata": {},
   "source": [
    "If agility, the unobserved indipendent variable, was hidden behind the error term and if, for example, agility had a positive correlation with precision as assumed above, we would end up with an over-increased estimater of the dependant variable performance. Here is how the bias would look like:"
   ]
  },
  {
   "cell_type": "markdown",
   "id": "63691455-f645-4478-a06c-311c8130a5f6",
   "metadata": {},
   "source": [
    "$performance_i\\color{blue}{\\text{↑}}\\color{pink}{\\text{↑}} = β_0 + β_1 * precision_i\\color{blue}{\\text{↑}}\\color{red}{\\text{↑}} + ε_i\\color{red}{\\text{↑}}\\color{pink}{\\text{↑}}$"
   ]
  },
  {
   "cell_type": "markdown",
   "id": "fbc0049e-08ee-4084-adcd-8070c88ace05",
   "metadata": {},
   "source": [
    "$\\color{pink}{\\text{↑}}$ = over-increase effect"
   ]
  },
  {
   "cell_type": "markdown",
   "id": "2e3a75c5-bd31-44af-a35d-bb3608800392",
   "metadata": {},
   "source": [
    "To sum up, the unobserved dependency of other independent variables is called **unobserved heterogeneity** and the correlation between the IV in the current model and the error term (which would be/include the unobserved independent variable) is called **endogeneity**. To solve this potential issue we need to perform a **panel data regression** as we will be able to control heterogeneity in our model by defining whether it is fix or random."
   ]
  },
  {
   "cell_type": "markdown",
   "id": "1132e1a8-f801-44d7-a090-0b17d8a3ea6c",
   "metadata": {
    "tags": []
   },
   "source": [
    "## Types of panel data regression"
   ]
  },
  {
   "cell_type": "markdown",
   "id": "988e60e2-3ea8-4694-ba94-57967c93fd33",
   "metadata": {},
   "source": [
    "What comes next will be based and the follownig general notation:"
   ]
  },
  {
   "cell_type": "markdown",
   "id": "52ffdef7-462f-4fc5-8622-4cc436833a2a",
   "metadata": {},
   "source": [
    "$y_{it} = x_{it}β + α_i + μ_{it}$"
   ]
  },
  {
   "cell_type": "markdown",
   "id": "8bffa82e-f718-433b-bfc6-4d0006809ecc",
   "metadata": {},
   "source": [
    "for t = 1,...,T and i = 1,...,N"
   ]
  },
  {
   "cell_type": "code",
   "execution_count": 3,
   "id": "642c7395-3553-42ac-9f52-50293b87e979",
   "metadata": {},
   "outputs": [],
   "source": [
    "# y = DV\n",
    "# x = IV(s)\n",
    "# β = coefficients\n",
    "# α = individual effects\n",
    "# μ = idiosyncratic error (unobserved factors that change over time and across units)"
   ]
  },
  {
   "cell_type": "markdown",
   "id": "b66dd337-4962-4b59-a26f-8f84fdd168d6",
   "metadata": {},
   "source": [
    "There are three types of regression for panel data: **PooledOLS, Fixed-Effects (FE) Model and Random-Effects (RE) Model**."
   ]
  },
  {
   "cell_type": "markdown",
   "id": "5dbad81b-ac48-4344-a670-d18793b7542f",
   "metadata": {},
   "source": [
    "### PooledOLS"
   ]
  },
  {
   "cell_type": "markdown",
   "id": "8c5dfe77-a831-4792-a8b4-955823355902",
   "metadata": {},
   "source": [
    "This type of regression is a simple **Ordinary Least Squared (OLS)** model that ignores time and individual characteristics, thus focusing only on the dependencies. For the OLS to work, there needs to be **no correlation between the independent variable (IV) and unobserved indipendent variables (α)**. We can write this down like this:"
   ]
  },
  {
   "cell_type": "markdown",
   "id": "d2f84b6a-916b-4283-936b-88b79887a6ed",
   "metadata": {},
   "source": [
    "$cov(x_{it}, α_{i}) = 0$"
   ]
  },
  {
   "cell_type": "markdown",
   "id": "5bf5b400-25cc-4526-8786-723e6222fea3",
   "metadata": {},
   "source": [
    "(covariance between IV and individual effects = 0 --> **exogeneity** assumption)"
   ]
  },
  {
   "cell_type": "markdown",
   "id": "fcc8106e-da1d-4348-9d0f-ce12b2893fcc",
   "metadata": {},
   "source": [
    "Even if this assumption holds for PooledOLS, the individual effects α might still have a serial correlation issue over time (an individual effect is a lagged version of itself and a correlation between the values over the period of time have an effect on the following ones). Therefore, this model is not suitable for panel data."
   ]
  },
  {
   "cell_type": "markdown",
   "id": "fbb15626-2c65-46a4-903f-70fdf15e7feb",
   "metadata": {},
   "source": [
    "$cov(α_{i}, α_{i}) = var(α_{i}) > 0$"
   ]
  },
  {
   "cell_type": "markdown",
   "id": "7590a160-6ec8-480d-85a5-944d34301665",
   "metadata": {},
   "source": [
    "(serial correlation between α)"
   ]
  },
  {
   "cell_type": "markdown",
   "id": "e88e6549-f96b-4b02-8ad1-4f8764c93bf1",
   "metadata": {},
   "source": [
    "Apparently there is another regression model called Feasible Generalized Least Squares, used in the third model we will see in a while, that counter this serial correlation issue."
   ]
  },
  {
   "cell_type": "markdown",
   "id": "c40e5848-277c-4bda-aa32-6f011af764eb",
   "metadata": {},
   "source": [
    "### Fixed-Effects (FE) Model"
   ]
  },
  {
   "cell_type": "markdown",
   "id": "b46a973e-2d4b-4089-be52-990681b47da7",
   "metadata": {},
   "source": [
    "This model states that individual effects of **unobserved indipendente variables (α) are constant (fixed) over time**. When using the FE model a relationship between α and x (IV), previously called as endogeneity, can exist. Why? Because if we assume α to be a constant and substract the mean values from each equation term, α minus the mean of α values will give zero and can be neglected."
   ]
  },
  {
   "cell_type": "markdown",
   "id": "11b25c4c-e125-4bf3-ba53-48965cc0af26",
   "metadata": {},
   "source": [
    "$cov(x_{it}, α_{i}) ≠ 0$"
   ]
  },
  {
   "cell_type": "markdown",
   "id": "a7c9abbe-4462-4f62-8f91-6320154d610d",
   "metadata": {},
   "source": [
    "(covariance between IV and individual effects ≠ 0 --> **endogeneity** allowed)"
   ]
  },
  {
   "cell_type": "markdown",
   "id": "89357cd1-1bac-4d7b-a54a-ee306218bef2",
   "metadata": {},
   "source": [
    "The idea here (can't hide it's getting somehow tricky for me), to sum up, is that only the idiosyncratic error remains and has to be exogen and non-collinear (correlation doesn't cause issues). FYI, another model called Least Squares Dummy Variables model (LSDV) can be used as an alternative to the FE model. In the LSDV model the fixed individual effects are represented by dummy variables. The result will be the same but it seems that it will take more computation power to run the regression model."
   ]
  },
  {
   "cell_type": "markdown",
   "id": "f2fbc3eb-6cac-4d7a-b909-368c0bf41c75",
   "metadata": {},
   "source": [
    "### Random-Effects (RE) Model"
   ]
  },
  {
   "cell_type": "markdown",
   "id": "faf35758-f5e0-4c25-b5a4-dcb9f2f4cc65",
   "metadata": {},
   "source": [
    "In this model the unobserved independent variables (α) are set as random variables over time. This approach **enables the model to switch between OLS and FE**, focusing on both dependencies between and within individuals.\n",
    "\n",
    "Depending on the covariance betweeen α and IV, one or the other model estimator will be preferred by the RE model:"
   ]
  },
  {
   "cell_type": "markdown",
   "id": "b072a0b9-96c0-43d1-9bd6-91003d0af112",
   "metadata": {},
   "source": [
    "if $cov(x_{it}, α_{i}) = 0$ there is no correlation between IV and α --> OLS"
   ]
  },
  {
   "cell_type": "markdown",
   "id": "a17c7e2c-b712-4f59-8ff2-643bfeee3d64",
   "metadata": {},
   "source": [
    "if $cov(x_{it}, α_{i}) ≠ 0$ the covariance is not zero for IV and α --> FE model"
   ]
  },
  {
   "cell_type": "markdown",
   "id": "3767431c-f90c-46b2-881b-3987a6bdc96d",
   "metadata": {},
   "source": [
    "As OLS, as mentioned for Pooled OLS, can lead to serial correlation between α individual effects, the RE model will determine which model to take according to the serial correlation of the error terms by using **lambda** (how big the variance of α is)."
   ]
  },
  {
   "cell_type": "markdown",
   "id": "766afe6e-3fb9-42ff-9ff0-234edd4a1790",
   "metadata": {},
   "source": [
    "$λ = 1 - (\\frac{σ_{μ}^2}{σ_{μ}^2 + T * σ_{α}^2})$"
   ]
  },
  {
   "cell_type": "markdown",
   "id": "b429940d-cee9-4cc3-8566-8c61136301fe",
   "metadata": {},
   "source": [
    "If the variance of α is zero the formula will give λ = 0 and OLS will be used."
   ]
  },
  {
   "cell_type": "markdown",
   "id": "d51a3660-6784-4922-8622-ee26f2d60ddb",
   "metadata": {},
   "source": [
    "If the variance of α becomes very big the formula will give λ = 1 and FE will be used."
   ]
  },
  {
   "cell_type": "markdown",
   "id": "e58c262c-8f90-4e73-bc3f-faccca175257",
   "metadata": {},
   "source": [
    "## How to decide which model best fits the panel data"
   ]
  },
  {
   "cell_type": "markdown",
   "id": "e09537ee-503b-480d-aa98-d4ebbc677364",
   "metadata": {},
   "source": [
    "There are give assumptions for simple linear regression models that must be fulfilled:\n",
    "- linearity\n",
    "- exogeneity (IV not dependent on DV)\n",
    "- homoskedasticity (same error term across all values of the IV) and non-autocorrelation \n",
    "- independent variables are not stochastic (non probabilistic)\n",
    "- no multicollinearity (no perfect exact relationship among exploratory variables)"
   ]
  },
  {
   "cell_type": "markdown",
   "id": "53a2d557-0401-4b10-bbe7-ae9c92f734ca",
   "metadata": {},
   "source": [
    "If exogeneity + homoskedasticity/non-autocorrelation are violated, FE or RE might be more suitable. At this point the choice will depend on whether the unobserved heterogeneity leading to endogeneity is constant or a random effect. The **Hausman-Test** tests for endogeneity, where the null hypothesis is that the covariance between IV and α is zero. If it's the case, RE is preferred over FE. If the p-value is very small on the other hand, the null hypothesis can be rejected and the FE model will be used."
   ]
  },
  {
   "cell_type": "markdown",
   "id": "dc571f46-636c-4806-99fc-a4b5bd004707",
   "metadata": {},
   "source": [
    "## Implementing panel data models"
   ]
  },
  {
   "cell_type": "markdown",
   "id": "89ec3934-e06e-4750-8960-952c911053cf",
   "metadata": {},
   "source": [
    "### Import dataset and transform data"
   ]
  },
  {
   "cell_type": "markdown",
   "id": "beca3388-39d9-417a-8803-fa4784f8a110",
   "metadata": {},
   "source": [
    "Let's set violent crime rates (incidents/100k inhabitants) as our DV, income (personal income per capita) as IV, the year column as the time period and the state as single entities under observation.\n",
    "\n",
    "The question we would like to answer is: **how does the income affects crime rate?**"
   ]
  },
  {
   "cell_type": "code",
   "execution_count": 4,
   "id": "1e47ff62-6a18-4f9c-b1f8-51580fda1c8c",
   "metadata": {},
   "outputs": [
    {
     "data": {
      "text/html": [
       "<div>\n",
       "<style scoped>\n",
       "    .dataframe tbody tr th:only-of-type {\n",
       "        vertical-align: middle;\n",
       "    }\n",
       "\n",
       "    .dataframe tbody tr th {\n",
       "        vertical-align: top;\n",
       "    }\n",
       "\n",
       "    .dataframe thead th {\n",
       "        text-align: right;\n",
       "    }\n",
       "</style>\n",
       "<table border=\"1\" class=\"dataframe\">\n",
       "  <thead>\n",
       "    <tr style=\"text-align: right;\">\n",
       "      <th></th>\n",
       "      <th></th>\n",
       "      <th>violent</th>\n",
       "      <th>income</th>\n",
       "      <th>year</th>\n",
       "    </tr>\n",
       "    <tr>\n",
       "      <th>state</th>\n",
       "      <th>year</th>\n",
       "      <th></th>\n",
       "      <th></th>\n",
       "      <th></th>\n",
       "    </tr>\n",
       "  </thead>\n",
       "  <tbody>\n",
       "    <tr>\n",
       "      <th rowspan=\"23\" valign=\"top\">Alabama</th>\n",
       "      <th>1977</th>\n",
       "      <td>414.4</td>\n",
       "      <td>9563.148</td>\n",
       "      <td>1977</td>\n",
       "    </tr>\n",
       "    <tr>\n",
       "      <th>1978</th>\n",
       "      <td>419.1</td>\n",
       "      <td>9932.000</td>\n",
       "      <td>1978</td>\n",
       "    </tr>\n",
       "    <tr>\n",
       "      <th>1979</th>\n",
       "      <td>413.3</td>\n",
       "      <td>9877.028</td>\n",
       "      <td>1979</td>\n",
       "    </tr>\n",
       "    <tr>\n",
       "      <th>1980</th>\n",
       "      <td>448.5</td>\n",
       "      <td>9541.428</td>\n",
       "      <td>1980</td>\n",
       "    </tr>\n",
       "    <tr>\n",
       "      <th>1981</th>\n",
       "      <td>470.5</td>\n",
       "      <td>9548.351</td>\n",
       "      <td>1981</td>\n",
       "    </tr>\n",
       "    <tr>\n",
       "      <th>1982</th>\n",
       "      <td>447.7</td>\n",
       "      <td>9478.919</td>\n",
       "      <td>1982</td>\n",
       "    </tr>\n",
       "    <tr>\n",
       "      <th>1983</th>\n",
       "      <td>416.0</td>\n",
       "      <td>9783.000</td>\n",
       "      <td>1983</td>\n",
       "    </tr>\n",
       "    <tr>\n",
       "      <th>1984</th>\n",
       "      <td>431.2</td>\n",
       "      <td>10357.200</td>\n",
       "      <td>1984</td>\n",
       "    </tr>\n",
       "    <tr>\n",
       "      <th>1985</th>\n",
       "      <td>457.5</td>\n",
       "      <td>10725.860</td>\n",
       "      <td>1985</td>\n",
       "    </tr>\n",
       "    <tr>\n",
       "      <th>1986</th>\n",
       "      <td>558.0</td>\n",
       "      <td>11091.620</td>\n",
       "      <td>1986</td>\n",
       "    </tr>\n",
       "    <tr>\n",
       "      <th>1987</th>\n",
       "      <td>559.2</td>\n",
       "      <td>11323.820</td>\n",
       "      <td>1987</td>\n",
       "    </tr>\n",
       "    <tr>\n",
       "      <th>1988</th>\n",
       "      <td>558.6</td>\n",
       "      <td>11654.960</td>\n",
       "      <td>1988</td>\n",
       "    </tr>\n",
       "    <tr>\n",
       "      <th>1989</th>\n",
       "      <td>590.8</td>\n",
       "      <td>11963.900</td>\n",
       "      <td>1989</td>\n",
       "    </tr>\n",
       "    <tr>\n",
       "      <th>1990</th>\n",
       "      <td>708.6</td>\n",
       "      <td>12063.980</td>\n",
       "      <td>1990</td>\n",
       "    </tr>\n",
       "    <tr>\n",
       "      <th>1991</th>\n",
       "      <td>844.2</td>\n",
       "      <td>12087.820</td>\n",
       "      <td>1991</td>\n",
       "    </tr>\n",
       "    <tr>\n",
       "      <th>1992</th>\n",
       "      <td>871.7</td>\n",
       "      <td>12398.020</td>\n",
       "      <td>1992</td>\n",
       "    </tr>\n",
       "    <tr>\n",
       "      <th>1993</th>\n",
       "      <td>780.4</td>\n",
       "      <td>12395.800</td>\n",
       "      <td>1993</td>\n",
       "    </tr>\n",
       "    <tr>\n",
       "      <th>1994</th>\n",
       "      <td>683.7</td>\n",
       "      <td>12673.920</td>\n",
       "      <td>1994</td>\n",
       "    </tr>\n",
       "    <tr>\n",
       "      <th>1995</th>\n",
       "      <td>632.4</td>\n",
       "      <td>12872.680</td>\n",
       "      <td>1995</td>\n",
       "    </tr>\n",
       "    <tr>\n",
       "      <th>1996</th>\n",
       "      <td>565.4</td>\n",
       "      <td>12908.910</td>\n",
       "      <td>1996</td>\n",
       "    </tr>\n",
       "    <tr>\n",
       "      <th>1997</th>\n",
       "      <td>564.5</td>\n",
       "      <td>13121.110</td>\n",
       "      <td>1997</td>\n",
       "    </tr>\n",
       "    <tr>\n",
       "      <th>1998</th>\n",
       "      <td>512.1</td>\n",
       "      <td>13514.100</td>\n",
       "      <td>1998</td>\n",
       "    </tr>\n",
       "    <tr>\n",
       "      <th>1999</th>\n",
       "      <td>490.2</td>\n",
       "      <td>13737.260</td>\n",
       "      <td>1999</td>\n",
       "    </tr>\n",
       "    <tr>\n",
       "      <th rowspan=\"2\" valign=\"top\">Alaska</th>\n",
       "      <th>1977</th>\n",
       "      <td>443.2</td>\n",
       "      <td>20296.830</td>\n",
       "      <td>1977</td>\n",
       "    </tr>\n",
       "    <tr>\n",
       "      <th>1978</th>\n",
       "      <td>441.9</td>\n",
       "      <td>19044.990</td>\n",
       "      <td>1978</td>\n",
       "    </tr>\n",
       "  </tbody>\n",
       "</table>\n",
       "</div>"
      ],
      "text/plain": [
       "              violent     income  year\n",
       "state   year                          \n",
       "Alabama 1977    414.4   9563.148  1977\n",
       "        1978    419.1   9932.000  1978\n",
       "        1979    413.3   9877.028  1979\n",
       "        1980    448.5   9541.428  1980\n",
       "        1981    470.5   9548.351  1981\n",
       "        1982    447.7   9478.919  1982\n",
       "        1983    416.0   9783.000  1983\n",
       "        1984    431.2  10357.200  1984\n",
       "        1985    457.5  10725.860  1985\n",
       "        1986    558.0  11091.620  1986\n",
       "        1987    559.2  11323.820  1987\n",
       "        1988    558.6  11654.960  1988\n",
       "        1989    590.8  11963.900  1989\n",
       "        1990    708.6  12063.980  1990\n",
       "        1991    844.2  12087.820  1991\n",
       "        1992    871.7  12398.020  1992\n",
       "        1993    780.4  12395.800  1993\n",
       "        1994    683.7  12673.920  1994\n",
       "        1995    632.4  12872.680  1995\n",
       "        1996    565.4  12908.910  1996\n",
       "        1997    564.5  13121.110  1997\n",
       "        1998    512.1  13514.100  1998\n",
       "        1999    490.2  13737.260  1999\n",
       "Alaska  1977    443.2  20296.830  1977\n",
       "        1978    441.9  19044.990  1978"
      ]
     },
     "execution_count": 4,
     "metadata": {},
     "output_type": "execute_result"
    }
   ],
   "source": [
    "# import pandas if not done above\n",
    "import pandas as pd\n",
    "\n",
    "# import guns.csv dataset\n",
    "dataset = pd.read_csv(\"data/guns.csv\", sep='\\t', usecols = ['state', 'year', 'income', 'violent'], index_col = ['state', 'year'])\n",
    "\n",
    "# get values for a level of the state/year multi index and creates a list\n",
    "years = dataset.index.get_level_values('year').to_list()\n",
    "\n",
    "# set year as dtype category\n",
    "dataset['year'] = pd.Categorical(years)\n",
    "\n",
    "# check format\n",
    "dataset.head(25)"
   ]
  },
  {
   "cell_type": "code",
   "execution_count": 5,
   "id": "c1f8b3dd-cc72-432a-95f2-60ebd6d3d433",
   "metadata": {},
   "outputs": [
    {
     "data": {
      "text/plain": [
       "(1173, 3)"
      ]
     },
     "execution_count": 5,
     "metadata": {},
     "output_type": "execute_result"
    }
   ],
   "source": [
    "# check shape\n",
    "dataset.shape"
   ]
  },
  {
   "cell_type": "code",
   "execution_count": 6,
   "id": "8cfecfa1-d1ad-4028-817b-9e4d41477b5a",
   "metadata": {},
   "outputs": [
    {
     "data": {
      "text/plain": [
       "violent    1173\n",
       "income     1173\n",
       "year       1173\n",
       "dtype: int64"
      ]
     },
     "execution_count": 6,
     "metadata": {},
     "output_type": "execute_result"
    }
   ],
   "source": [
    "# check null values\n",
    "dataset.notnull().count()"
   ]
  },
  {
   "cell_type": "markdown",
   "id": "286c9ffc-d137-487a-9e5c-d68f361c5820",
   "metadata": {},
   "source": [
    "Having **no missing values** within our dataframe means that the panel dataset is **balanced**."
   ]
  },
  {
   "cell_type": "code",
   "execution_count": 7,
   "id": "dcf62aae-b082-40ff-9907-b0c776d1839d",
   "metadata": {},
   "outputs": [
    {
     "name": "stdout",
     "output_type": "stream",
     "text": [
      "<class 'pandas.core.frame.DataFrame'>\n",
      "MultiIndex: 1173 entries, ('Alabama', 1977) to ('Wyoming', 1999)\n",
      "Data columns (total 3 columns):\n",
      " #   Column   Non-Null Count  Dtype   \n",
      "---  ------   --------------  -----   \n",
      " 0   violent  1173 non-null   float64 \n",
      " 1   income   1173 non-null   float64 \n",
      " 2   year     1173 non-null   category\n",
      "dtypes: category(1), float64(2)\n",
      "memory usage: 25.8+ KB\n"
     ]
    }
   ],
   "source": [
    "dataset.info()"
   ]
  },
  {
   "cell_type": "markdown",
   "id": "6b95a571-f1be-4e99-ba89-344928292906",
   "metadata": {},
   "source": [
    "### PooledOLS"
   ]
  },
  {
   "cell_type": "code",
   "execution_count": 8,
   "id": "255ef268-5347-4ce4-ab3b-40df25c0ce30",
   "metadata": {},
   "outputs": [],
   "source": [
    "# import PooledOLS and statsmodels\n",
    "from linearmodels import PooledOLS\n",
    "import statsmodels.api as sm\n",
    "\n",
    "# run PooledOLS\n",
    "# IV\n",
    "exog = sm.tools.tools.add_constant(dataset['income'])\n",
    "# DV\n",
    "endog = dataset['violent']\n",
    "# model\n",
    "mod = PooledOLS(endog, exog)\n",
    "# model fit\n",
    "pooledOLS_res = mod.fit(cov_type='clustered', cluster_entity=True)\n",
    "\n",
    "# store values for checking homoskedasticity graphically\n",
    "# fitted values\n",
    "fittedvals_pooled_OLS = pooledOLS_res.predict().fitted_values\n",
    "# residual values\n",
    "residuals_pooled_OLS = pooledOLS_res.resids"
   ]
  },
  {
   "cell_type": "markdown",
   "id": "f3a8a5d1-f15d-4a68-a3a7-20e860bc38df",
   "metadata": {},
   "source": [
    "### Homoskedasticity condition check"
   ]
  },
  {
   "cell_type": "code",
   "execution_count": 9,
   "id": "ce3452dc-9ec3-4df6-8911-339e4a0ac3e4",
   "metadata": {},
   "outputs": [
    {
     "data": {
      "image/png": "[encoded data removed]",
      "text/plain": [
       "<Figure size 640x480 with 1 Axes>"
      ]
     },
     "metadata": {},
     "output_type": "display_data"
    }
   ],
   "source": [
    "# Homoskedasticity\n",
    "\n",
    "# import matplotlib for data visualization\n",
    "import matplotlib.pyplot as plt\n",
    "\n",
    "# plot residuals (growth variance detection)\n",
    "fig, ax = plt.subplots()\n",
    "\n",
    "# scatter residuals\n",
    "ax.scatter(fittedvals_pooled_OLS, residuals_pooled_OLS, color = 'orange', s=5)\n",
    "\n",
    "# residual 0 value line\n",
    "ax.axhline(0, color = 'b', ls = '--')\n",
    "\n",
    "# set labels and title\n",
    "ax.set_xlabel('Predicted Values', fontsize = 10)\n",
    "ax.set_ylabel('Residuals', fontsize = 10)\n",
    "ax.set_title('Homoskedasticity Test', fontsize = 15)\n",
    "\n",
    "# show plot\n",
    "plt.show()"
   ]
  },
  {
   "cell_type": "code",
   "execution_count": 10,
   "id": "bd9c5c44-96fc-4c15-81ec-a784778f3a7c",
   "metadata": {},
   "outputs": [],
   "source": [
    "# x-axis -> predicted values\n",
    "# y-axis -> residuals"
   ]
  },
  {
   "cell_type": "markdown",
   "id": "5dd5a4e0-67b4-43c2-8930-80373562f7d3",
   "metadata": {},
   "source": [
    "As the **data points spread out**, meaning the the variance is growing, we can start to believe that **heteroskedasticity** is present and the condition **(homoskedasticity) might be violated**. Let's check with the White-Test and the Breusch-Pagan-Test:"
   ]
  },
  {
   "cell_type": "code",
   "execution_count": 11,
   "id": "77109fc3-b409-412c-9cb1-80aa097e5dc3",
   "metadata": {},
   "outputs": [],
   "source": [
    "# data preparation\n",
    "pooled_OLS_dataset = pd.concat([dataset, residuals_pooled_OLS], axis=1)\n",
    "pooled_OLS_dataset = pooled_OLS_dataset.drop(['year'], axis = 1).fillna(0)\n",
    "exog = sm.tools.tools.add_constant(dataset['income']).fillna(0)"
   ]
  },
  {
   "cell_type": "code",
   "execution_count": 12,
   "id": "eebc9026-05c7-406d-bca1-6520803a988f",
   "metadata": {},
   "outputs": [
    {
     "name": "stdout",
     "output_type": "stream",
     "text": [
      "{'LM-Stat': 200.15502156044542, 'LM p-val': 3.442621728589391e-44, 'F-Stat': 120.35903993735393, 'F p-val': 2.9254535557178634e-48}\n"
     ]
    }
   ],
   "source": [
    "# White-Test\n",
    "\n",
    "# import package\n",
    "from statsmodels.stats.diagnostic import het_white\n",
    "\n",
    "# get test results\n",
    "white_test_results = het_white(pooled_OLS_dataset['residual'], exog)\n",
    "\n",
    "# set labels\n",
    "labels = ['LM-Stat', 'LM p-val', 'F-Stat', 'F p-val']\n",
    "\n",
    "# print results\n",
    "print(dict(zip(labels, white_test_results)))"
   ]
  },
  {
   "cell_type": "code",
   "execution_count": 13,
   "id": "8cf7e9a8-90dc-4cd1-8a0f-d3ca5cc2f7e0",
   "metadata": {},
   "outputs": [
    {
     "name": "stdout",
     "output_type": "stream",
     "text": [
      "{'LM-Stat': 110.9616604422172, 'LM p-val': 6.032616972195138e-26, 'F-Stat': 122.34596392437189, 'F p-val': 4.048137598793346e-27}\n"
     ]
    }
   ],
   "source": [
    "# Breusch-Pagan-Test\n",
    "\n",
    "# import package\n",
    "from statsmodels.stats.diagnostic import het_breuschpagan\n",
    "\n",
    "# get test results\n",
    "breusch_pagan_test_results = het_breuschpagan(pooled_OLS_dataset['residual'], exog)\n",
    "\n",
    "# set labels\n",
    "labels = ['LM-Stat', 'LM p-val', 'F-Stat', 'F p-val']\n",
    "\n",
    "# print results\n",
    "print(dict(zip(labels, breusch_pagan_test_results)))"
   ]
  },
  {
   "cell_type": "markdown",
   "id": "a776a4e4-e48a-4b29-a22d-7e1cfaf81f95",
   "metadata": {},
   "source": [
    "As both test show a **p-value < 0.05, the homoskedasticity condition is violated**."
   ]
  },
  {
   "cell_type": "markdown",
   "id": "f8fd5cb5-5eac-4de9-9b21-194c15034ac4",
   "metadata": {},
   "source": [
    "### Non-autocorrelation condition check"
   ]
  },
  {
   "cell_type": "markdown",
   "id": "857729fd-24b0-410e-a3ca-2024162e4375",
   "metadata": {},
   "source": [
    "Let's use the **Durbin-Watson-Test** to determine whether there ia an autocorrelation or not. The result can be between 0 and 4, with 2 meaning no autocorrelation, and values closer to 0 and 4 showing respectively positive and negative autocorrelation."
   ]
  },
  {
   "cell_type": "code",
   "execution_count": 14,
   "id": "0753d0c2-5ba8-4c4a-95af-97d5953c8ebb",
   "metadata": {},
   "outputs": [
    {
     "name": "stdout",
     "output_type": "stream",
     "text": [
      "0.08937264851640205\n"
     ]
    }
   ],
   "source": [
    "# Non-autocorrelation\n",
    "\n",
    "# import package\n",
    "from statsmodels.stats.stattools import durbin_watson\n",
    "\n",
    "# get test results\n",
    "durbin_watson_test_results = durbin_watson(pooled_OLS_dataset['residual'])\n",
    "\n",
    "# print results\n",
    "print(durbin_watson_test_results)"
   ]
  },
  {
   "cell_type": "markdown",
   "id": "aa118071-8e94-48b4-b2c4-96939832daf8",
   "metadata": {},
   "source": [
    "The result is very **close to 0**, showing therefore a **strong positive correlation**. The **non-autocorrelation condition is violated**. We need therefore move to FE/RE models which should be more suitable."
   ]
  },
  {
   "cell_type": "markdown",
   "id": "07f01c19-51bd-4255-a4c5-10694570ff3a",
   "metadata": {},
   "source": [
    "### Fixed-Effect and Random-Effect models"
   ]
  },
  {
   "cell_type": "code",
   "execution_count": 15,
   "id": "d682a08c-9ed8-4f4b-8629-68347d0a998b",
   "metadata": {},
   "outputs": [],
   "source": [
    "# import FE model\n",
    "from linearmodels import PanelOLS\n",
    "\n",
    "# import RE model\n",
    "from linearmodels import RandomEffects\n",
    "\n",
    "# DV\n",
    "exog = sm.tools.tools.add_constant(dataset['income'])\n",
    "\n",
    "# IV\n",
    "endog = dataset['violent']\n",
    "\n",
    "# FE model and fit residuals\n",
    "model_fe = PanelOLS(endog, exog, entity_effects = True)\n",
    "fe_res = model_fe.fit() \n",
    "\n",
    "# RE model and fit residuals\n",
    "model_re = RandomEffects(endog, exog) \n",
    "re_res = model_re.fit()"
   ]
  },
  {
   "cell_type": "code",
   "execution_count": 16,
   "id": "e9330bae-32b9-4ddc-a8e7-9ae672d6bc20",
   "metadata": {},
   "outputs": [
    {
     "name": "stdout",
     "output_type": "stream",
     "text": [
      "                          PanelOLS Estimation Summary                           \n",
      "================================================================================\n",
      "Dep. Variable:                violent   R-squared:                        0.1127\n",
      "Estimator:                   PanelOLS   R-squared (Between):              0.1141\n",
      "No. Observations:                1173   R-squared (Within):               0.1127\n",
      "Date:                Fri, Mar 31 2023   R-squared (Overall):              0.1140\n",
      "Time:                        11:59:08   Log-likelihood                   -7081.9\n",
      "Cov. Estimator:            Unadjusted                                           \n",
      "                                        F-statistic:                      142.39\n",
      "Entities:                          51   P-value                           0.0000\n",
      "Avg Obs:                       23.000   Distribution:                  F(1,1121)\n",
      "Min Obs:                       23.000                                           \n",
      "Max Obs:                       23.000   F-statistic (robust):             142.39\n",
      "                                        P-value                           0.0000\n",
      "Time periods:                      23   Distribution:                  F(1,1121)\n",
      "Avg Obs:                       51.000                                           \n",
      "Min Obs:                       51.000                                           \n",
      "Max Obs:                       51.000                                           \n",
      "                                                                                \n",
      "                             Parameter Estimates                              \n",
      "==============================================================================\n",
      "            Parameter  Std. Err.     T-stat    P-value    Lower CI    Upper CI\n",
      "------------------------------------------------------------------------------\n",
      "const          181.70     27.101     6.7046     0.0000      128.53      234.88\n",
      "income         0.0234     0.0020     11.933     0.0000      0.0196      0.0273\n",
      "==============================================================================\n",
      "\n",
      "F-test for Poolability: 180.75\n",
      "P-value: 0.0000\n",
      "Distribution: F(50,1121)\n",
      "\n",
      "Included effects: Entity\n"
     ]
    }
   ],
   "source": [
    "# print FE model results\n",
    "print(fe_res)"
   ]
  },
  {
   "cell_type": "code",
   "execution_count": 17,
   "id": "87dde3e3-6f4f-42dd-b90c-248b5acb2d0c",
   "metadata": {},
   "outputs": [
    {
     "name": "stdout",
     "output_type": "stream",
     "text": [
      "                        RandomEffects Estimation Summary                        \n",
      "================================================================================\n",
      "Dep. Variable:                violent   R-squared:                        0.1128\n",
      "Estimator:              RandomEffects   R-squared (Between):              0.1159\n",
      "No. Observations:                1173   R-squared (Within):               0.1127\n",
      "Date:                Fri, Mar 31 2023   R-squared (Overall):              0.1156\n",
      "Time:                        11:59:08   Log-likelihood                   -7109.8\n",
      "Cov. Estimator:            Unadjusted                                           \n",
      "                                        F-statistic:                      148.90\n",
      "Entities:                          51   P-value                           0.0000\n",
      "Avg Obs:                       23.000   Distribution:                  F(1,1171)\n",
      "Min Obs:                       23.000                                           \n",
      "Max Obs:                       23.000   F-statistic (robust):             148.90\n",
      "                                        P-value                           0.0000\n",
      "Time periods:                      23   Distribution:                  F(1,1171)\n",
      "Avg Obs:                       51.000                                           \n",
      "Min Obs:                       51.000                                           \n",
      "Max Obs:                       51.000                                           \n",
      "                                                                                \n",
      "                             Parameter Estimates                              \n",
      "==============================================================================\n",
      "            Parameter  Std. Err.     T-stat    P-value    Lower CI    Upper CI\n",
      "------------------------------------------------------------------------------\n",
      "const          175.39     48.461     3.6193     0.0003      80.314      270.47\n",
      "income         0.0239     0.0020     12.203     0.0000      0.0200      0.0277\n",
      "==============================================================================\n"
     ]
    }
   ],
   "source": [
    "# print RE model results\n",
    "print(re_res)"
   ]
  },
  {
   "cell_type": "markdown",
   "id": "5581001c-a31d-4f5a-83b5-0d3f94c8b5a9",
   "metadata": {},
   "source": [
    "Both models perform in a very similar way. **To understand which one we should pick as our best model we need to run a Hausman-Test**:"
   ]
  },
  {
   "cell_type": "code",
   "execution_count": 18,
   "id": "722124ac-116e-4b70-b2ed-d732f1307bf0",
   "metadata": {},
   "outputs": [
    {
     "name": "stdout",
     "output_type": "stream",
     "text": [
      "chi-Squared: 9.42637134332877\n",
      "degrees of freedom: 2\n",
      "p-Value: 0.008976136961676722\n"
     ]
    }
   ],
   "source": [
    "# importing packages\n",
    "import numpy.linalg as la\n",
    "from scipy import stats\n",
    "import numpy as np\n",
    "\n",
    "# creating hausman function (copied)\n",
    "def hausman_test(fe, re):\n",
    "    \n",
    "    # get estimated parameters and variance-covariance matrices\n",
    "    b = fe.params\n",
    "    B = re.params\n",
    "    v_b = fe.cov\n",
    "    v_B = re.cov\n",
    "\n",
    "    # compute degrees of freedom\n",
    "    df = b[np.abs(b) < 1e8].size\n",
    "    chi2 = np.dot((b - B).T, la.inv(v_b - v_B).dot(b - B)) \n",
    "\n",
    "    # compute p-value\n",
    "    pval = stats.chi2.sf(chi2, df)\n",
    "    \n",
    "    # return\n",
    "    return chi2, df, pval\n",
    "\n",
    "# run function\n",
    "hausman_results = hausman_test(fe_res, re_res)\n",
    "\n",
    "# print results\n",
    "print('chi-Squared: ' + str(hausman_results[0]))\n",
    "print('degrees of freedom: ' + str(hausman_results[1]))\n",
    "print('p-Value: ' + str(hausman_results[2]))"
   ]
  },
  {
   "cell_type": "markdown",
   "id": "c153cef8-a6e6-4127-9706-4b23f792bc6c",
   "metadata": {},
   "source": [
    "What we wanted to know with this last test is whether the unobserved heterogeneity leading to endogeneity is constant or a random effect. This endogeneity is tested via the Hausman-Test we just performed, where the null hypothesis was that the covariance between IV and α is zero. **Since the p-value is very small, the null hypothesis can in this case be rejected**, meaning that the covariance is not zero and **therefore the FE model is preferred**."
   ]
  },
  {
   "cell_type": "markdown",
   "id": "f589040f-45fc-435a-aea8-39d35c7a4669",
   "metadata": {},
   "source": [
    "## Final thoughts"
   ]
  },
  {
   "cell_type": "markdown",
   "id": "908f66ef-b8d6-4198-9157-9df6991ed82c",
   "metadata": {},
   "source": [
    "As stated at the beginning of this notebook, my goal was to understand how panel data is analyzed and what are the main issues that data scientists could face while trying to validate the dataset in question. This walkthrough raised for sure my awareness, even if I believe I will need to go through this a couple of times before getting the most of it. Thank you!"
   ]
  }
 ],
 "metadata": {
  "kernelspec": {
   "display_name": "projects",
   "language": "python",
   "name": "projects"
  },
  "language_info": {
   "codemirror_mode": {
    "name": "ipython",
    "version": 3
   },
   "file_extension": ".py",
   "mimetype": "text/x-python",
   "name": "python",
   "nbconvert_exporter": "python",
   "pygments_lexer": "ipython3",
   "version": "3.10.9"
  }
 },
 "nbformat": 4,
 "nbformat_minor": 5
}
